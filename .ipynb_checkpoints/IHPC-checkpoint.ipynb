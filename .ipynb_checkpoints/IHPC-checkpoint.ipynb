{
 "cells": [
  {
   "cell_type": "markdown",
   "id": "590f5d82-fd45-43d3-a55a-e85aaaab5c92",
   "metadata": {},
   "source": [
    "# Individual_household_electric_power_consumption"
   ]
  },
  {
   "cell_type": "markdown",
   "id": "c7bfc80f-8d55-4d2f-b968-1e1774075130",
   "metadata": {},
   "source": [
    "## Librerias"
   ]
  },
  {
   "cell_type": "code",
   "execution_count": 1,
   "id": "c773fbf0-0c22-4d11-8ab8-3bc14b1a5733",
   "metadata": {},
   "outputs": [],
   "source": [
    "import pandas as pd\n",
    "import json\n",
    "import matplotlib.pyplot as plt"
   ]
  },
  {
   "cell_type": "markdown",
   "id": "5b01bcce-928a-494f-a1b6-b48c30ed9547",
   "metadata": {},
   "source": [
    "## Carga y Exploración inicial de los datos"
   ]
  },
  {
   "cell_type": "code",
   "execution_count": 2,
   "id": "5518694b-7c4d-4f20-b943-046773207a54",
   "metadata": {},
   "outputs": [
    {
     "name": "stderr",
     "output_type": "stream",
     "text": [
      "C:\\Users\\matun\\AppData\\Local\\Programs\\Python\\Python312\\Lib\\site-packages\\ucimlrepo\\fetch.py:97: DtypeWarning: Columns (2,3,4,5,6,7) have mixed types. Specify dtype option on import or set low_memory=False.\n",
      "  df = pd.read_csv(data_url)\n"
     ]
    },
    {
     "name": "stdout",
     "output_type": "stream",
     "text": [
      "{\n",
      "    \"uci_id\": 235,\n",
      "    \"name\": \"Individual Household Electric Power Consumption\",\n",
      "    \"repository_url\": \"https://archive.ics.uci.edu/dataset/235/individual+household+electric+power+consumption\",\n",
      "    \"data_url\": \"https://archive.ics.uci.edu/static/public/235/data.csv\",\n",
      "    \"abstract\": \"Measurements of electric power consumption in one household with a one-minute sampling rate over a period of almost 4 years. Different electrical quantities and some sub-metering values are available.\",\n",
      "    \"area\": \"Physics and Chemistry\",\n",
      "    \"tasks\": [\n",
      "        \"Regression\",\n",
      "        \"Clustering\"\n",
      "    ],\n",
      "    \"characteristics\": [\n",
      "        \"Multivariate\",\n",
      "        \"Time-Series\"\n",
      "    ],\n",
      "    \"num_instances\": 2075259,\n",
      "    \"num_features\": 9,\n",
      "    \"feature_types\": [\n",
      "        \"Real\"\n",
      "    ],\n",
      "    \"demographics\": [],\n",
      "    \"target_col\": null,\n",
      "    \"index_col\": null,\n",
      "    \"has_missing_values\": \"no\",\n",
      "    \"missing_values_symbol\": null,\n",
      "    \"year_of_dataset_creation\": 2006,\n",
      "    \"last_updated\": \"Fri Mar 08 2024\",\n",
      "    \"dataset_doi\": \"10.24432/C58K54\",\n",
      "    \"creators\": [\n",
      "        \"Georges Hebrail\",\n",
      "        \"Alice Berard\"\n",
      "    ],\n",
      "    \"intro_paper\": null,\n",
      "    \"additional_info\": {\n",
      "        \"summary\": \"This archive contains 2075259 measurements gathered in a house located in Sceaux (7km of Paris, France) between December 2006 and November 2010 (47 months).\\r\\nNotes: \\r\\n1.(global_active_power*1000/60 - sub_metering_1 - sub_metering_2 - sub_metering_3) represents the active energy consumed every minute (in watt hour) in the household by electrical equipment not measured in sub-meterings 1, 2 and 3.\\r\\n2.The dataset contains some missing values in the measurements (nearly 1,25% of the rows). All calendar timestamps are present in the dataset but for some timestamps, the measurement values are missing: a missing value is represented by the absence of value between two consecutive semi-colon attribute separators. For instance, the dataset shows missing values on April 28, 2007.\",\n",
      "        \"purpose\": null,\n",
      "        \"funded_by\": null,\n",
      "        \"instances_represent\": null,\n",
      "        \"recommended_data_splits\": null,\n",
      "        \"sensitive_data\": null,\n",
      "        \"preprocessing_description\": null,\n",
      "        \"variable_info\": \"1.date: Date in format dd/mm/yyyy\\r\\n2.time: time in format hh:mm:ss\\r\\n3.global_active_power: household global minute-averaged active power (in kilowatt)\\r\\n4.global_reactive_power: household global minute-averaged reactive power (in kilowatt)\\r\\n5.voltage: minute-averaged voltage (in volt)\\r\\n6.global_intensity: household global minute-averaged current intensity (in ampere)\\r\\n7.sub_metering_1: energy sub-metering No. 1 (in watt-hour of active energy). It corresponds to the kitchen, containing mainly a dishwasher, an oven and a microwave (hot plates are not electric but gas powered).\\r\\n8.sub_metering_2: energy sub-metering No. 2 (in watt-hour of active energy). It corresponds to the laundry room, containing a washing-machine, a tumble-drier, a refrigerator and a light.\\r\\n9.sub_metering_3: energy sub-metering No. 3 (in watt-hour of active energy). It corresponds to an electric water-heater and an air-conditioner.\",\n",
      "        \"citation\": null\n",
      "    }\n",
      "}\n"
     ]
    }
   ],
   "source": [
    "from ucimlrepo import fetch_ucirepo \n",
    "# fetch dataset \n",
    "individual_household_electric_power_consumption = fetch_ucirepo(id=235) \n",
    "  \n",
    "# data (as pandas dataframes) \n",
    "X = individual_household_electric_power_consumption.data.features \n",
    "\n",
    "# Metadata\n",
    "metadata_str = json.dumps(individual_household_electric_power_consumption.metadata, indent=4)\n",
    "print(metadata_str)"
   ]
  },
  {
   "cell_type": "code",
   "execution_count": 3,
   "id": "18e35a9f-98f3-42d2-b03e-ec8a1a47dcb7",
   "metadata": {},
   "outputs": [
    {
     "name": "stdout",
     "output_type": "stream",
     "text": [
      "         Date      Time Global_active_power Global_reactive_power  Voltage  \\\n",
      "0  16/12/2006  17:24:00               4.216                 0.418  234.840   \n",
      "1  16/12/2006  17:25:00               5.360                 0.436  233.630   \n",
      "2  16/12/2006  17:26:00               5.374                 0.498  233.290   \n",
      "3  16/12/2006  17:27:00               5.388                 0.502  233.740   \n",
      "4  16/12/2006  17:28:00               3.666                 0.528  235.680   \n",
      "\n",
      "  Global_intensity Sub_metering_1 Sub_metering_2  Sub_metering_3  \n",
      "0           18.400          0.000          1.000            17.0  \n",
      "1           23.000          0.000          1.000            16.0  \n",
      "2           23.000          0.000          2.000            17.0  \n",
      "3           23.000          0.000          1.000            17.0  \n",
      "4           15.800          0.000          1.000            17.0  \n"
     ]
    }
   ],
   "source": [
    "print(X.head())"
   ]
  },
  {
   "cell_type": "code",
   "execution_count": 4,
   "id": "2bdf7f57-035f-4e01-9602-751e4cd25c35",
   "metadata": {
    "scrolled": true
   },
   "outputs": [
    {
     "name": "stdout",
     "output_type": "stream",
     "text": [
      "<class 'pandas.core.frame.DataFrame'>\n",
      "RangeIndex: 2075259 entries, 0 to 2075258\n",
      "Data columns (total 9 columns):\n",
      " #   Column                 Dtype  \n",
      "---  ------                 -----  \n",
      " 0   Date                   object \n",
      " 1   Time                   object \n",
      " 2   Global_active_power    object \n",
      " 3   Global_reactive_power  object \n",
      " 4   Voltage                object \n",
      " 5   Global_intensity       object \n",
      " 6   Sub_metering_1         object \n",
      " 7   Sub_metering_2         object \n",
      " 8   Sub_metering_3         float64\n",
      "dtypes: float64(1), object(8)\n",
      "memory usage: 142.5+ MB\n",
      "None\n"
     ]
    }
   ],
   "source": [
    "print(X.info())"
   ]
  },
  {
   "cell_type": "code",
   "execution_count": 5,
   "id": "289d2483-da1e-4a29-a080-ba0b7fe8cb5c",
   "metadata": {},
   "outputs": [
    {
     "name": "stdout",
     "output_type": "stream",
     "text": [
      "       Sub_metering_3\n",
      "count    2.049280e+06\n",
      "mean     6.458447e+00\n",
      "std      8.437154e+00\n",
      "min      0.000000e+00\n",
      "25%      0.000000e+00\n",
      "50%      1.000000e+00\n",
      "75%      1.700000e+01\n",
      "max      3.100000e+01\n"
     ]
    }
   ],
   "source": [
    "print(X.describe())"
   ]
  },
  {
   "cell_type": "markdown",
   "id": "77a12eb2-1dfc-4818-ba66-1928c6d6ebee",
   "metadata": {},
   "source": [
    "## Limpieza de Datos"
   ]
  },
  {
   "cell_type": "markdown",
   "id": "e144499a-60c0-484b-a04b-dbf2549b004b",
   "metadata": {},
   "source": [
    "### Cambio de tipo de datos"
   ]
  },
  {
   "cell_type": "code",
   "execution_count": 6,
   "id": "574c86e1-3d34-4ad8-a742-584f3cd75b96",
   "metadata": {},
   "outputs": [],
   "source": [
    "X_clean = X.copy()\n",
    "# Convertir 'Date' a datetime\n",
    "X_clean['Date'] = pd.to_datetime(X_clean['Date'], format='%d/%m/%Y')\n",
    "\n",
    "# Convertir columnas numéricas a float\n",
    "columns_to_float = ['Global_active_power', 'Global_reactive_power', 'Voltage', 'Global_intensity', 'Sub_metering_1', 'Sub_metering_2']\n",
    "X_clean[columns_to_float] = X_clean[columns_to_float].apply(lambda col: pd.to_numeric(col, errors='coerce'))"
   ]
  },
  {
   "cell_type": "code",
   "execution_count": 7,
   "id": "3997d3ee-ade0-4a59-abea-739c4e144828",
   "metadata": {},
   "outputs": [
    {
     "name": "stdout",
     "output_type": "stream",
     "text": [
      "<class 'pandas.core.frame.DataFrame'>\n",
      "RangeIndex: 2075259 entries, 0 to 2075258\n",
      "Data columns (total 9 columns):\n",
      " #   Column                 Dtype         \n",
      "---  ------                 -----         \n",
      " 0   Date                   datetime64[ns]\n",
      " 1   Time                   object        \n",
      " 2   Global_active_power    float64       \n",
      " 3   Global_reactive_power  float64       \n",
      " 4   Voltage                float64       \n",
      " 5   Global_intensity       float64       \n",
      " 6   Sub_metering_1         float64       \n",
      " 7   Sub_metering_2         float64       \n",
      " 8   Sub_metering_3         float64       \n",
      "dtypes: datetime64[ns](1), float64(7), object(1)\n",
      "memory usage: 142.5+ MB\n",
      "None\n"
     ]
    }
   ],
   "source": [
    "print(X_clean.info())"
   ]
  },
  {
   "cell_type": "markdown",
   "id": "4e14d7fe-01ad-4432-bf3b-e0ce61afeae6",
   "metadata": {},
   "source": [
    "### Conteo de valores nulos o faltantes"
   ]
  },
  {
   "cell_type": "code",
   "execution_count": 8,
   "id": "8c6e7ba4-1e86-43cc-a2a9-394734563ab4",
   "metadata": {},
   "outputs": [
    {
     "name": "stdout",
     "output_type": "stream",
     "text": [
      "Date                         0\n",
      "Time                         0\n",
      "Global_active_power      25979\n",
      "Global_reactive_power    25979\n",
      "Voltage                  25979\n",
      "Global_intensity         25979\n",
      "Sub_metering_1           25979\n",
      "Sub_metering_2           25979\n",
      "Sub_metering_3           25979\n",
      "dtype: int64\n"
     ]
    }
   ],
   "source": [
    "print(X_clean.isnull().sum())"
   ]
  },
  {
   "cell_type": "code",
   "execution_count": 9,
   "id": "1158a735-8996-4a57-aefb-b50440e8a832",
   "metadata": {},
   "outputs": [
    {
     "name": "stdout",
     "output_type": "stream",
     "text": [
      "Porcentaje de datos nulos 1.25%\n"
     ]
    }
   ],
   "source": [
    "valores_nulos = 25979\n",
    "valores_totales = 2075259\n",
    "print(f'Porcentaje de datos nulos {valores_nulos/valores_totales*100:.2f}%')"
   ]
  },
  {
   "cell_type": "markdown",
   "id": "a5de16e2-e317-40ed-88d4-fa35aac0a11d",
   "metadata": {},
   "source": [
    "### Exploración de los datos nulos"
   ]
  },
  {
   "cell_type": "markdown",
   "id": "d50956e9-7ad3-4d37-adab-f35ab3db5cae",
   "metadata": {},
   "source": [
    "Dado que los datos son un porcentaje muy pequeño se podría considerar simplemente eliminar esas filas con datos faltantes. Este es el enfoque más simple y en muchos casos puede **justificarse cuando se distribuyen aleatoriamente y son un porcentaje muy pequeño**. Sin embargo hay que analizar que datos faltan y como estan distribuidos"
   ]
  },
  {
   "cell_type": "code",
   "execution_count": 10,
   "id": "274aa773-555f-4e77-b567-f6f3d9f0fc8e",
   "metadata": {},
   "outputs": [
    {
     "name": "stdout",
     "output_type": "stream",
     "text": [
      "         Date  Count\n",
      "0  2006-12-21      2\n",
      "1  2006-12-30      2\n",
      "2  2007-01-14      1\n",
      "3  2007-01-28      1\n",
      "4  2007-02-22      2\n",
      "..        ...    ...\n",
      "77 2010-09-25   1204\n",
      "78 2010-09-26   1440\n",
      "79 2010-09-27   1440\n",
      "80 2010-09-28   1153\n",
      "81 2010-10-24      1\n",
      "\n",
      "[82 rows x 2 columns]\n"
     ]
    }
   ],
   "source": [
    "filas_con_nulos = X_clean[X_clean.isnull().any(axis=1)]\n",
    "nulos_por_fecha = filas_con_nulos.groupby('Date').size().reset_index(name='Count')\n",
    "print(nulos_por_fecha)"
   ]
  },
  {
   "cell_type": "markdown",
   "id": "6177aa13-54bc-43ea-9777-7c1a1abb0c6a",
   "metadata": {},
   "source": [
    "Una vez obtenidos los registros donde hay al menos un dato nulo por dia podemos analizar su distribución para analiar como proceder con la limpieza"
   ]
  },
  {
   "cell_type": "code",
   "execution_count": 11,
   "id": "8ae5b78d-67ad-4dc8-aed6-90c8bef2a9c7",
   "metadata": {},
   "outputs": [
    {
     "data": {
      "image/png": "[encoded data removed]",
      "text/plain": [
       "<Figure size 1000x600 with 1 Axes>"
      ]
     },
     "metadata": {},
     "output_type": "display_data"
    }
   ],
   "source": [
    "nulos_por_fecha[\"Date\"] = pd.to_datetime(nulos_por_fecha[\"Date\"])\n",
    "plt.figure(figsize=(10, 6))\n",
    "plt.hist(nulos_por_fecha[\"Count\"], bins=len(nulos_por_fecha),color='skyblue', edgecolor='black')\n",
    "plt.title(\"Histograma de Filas Nulas por Fecha\")\n",
    "plt.xlabel(\"Cantidad de Filas Nulas\")\n",
    "plt.ylabel(\"Frecuencia\")\n",
    "plt.grid(axis='y', alpha=0.75)\n",
    "\n",
    "plt.show()"
   ]
  },
  {
   "cell_type": "code",
   "execution_count": 12,
   "id": "3906a710-b1b0-4d6c-87b7-15e4b58ee059",
   "metadata": {},
   "outputs": [
    {
     "name": "stdout",
     "output_type": "stream",
     "text": [
      "count      82.000000\n",
      "mean      316.817073\n",
      "std       548.979190\n",
      "min         1.000000\n",
      "25%         1.000000\n",
      "50%         2.000000\n",
      "75%       385.750000\n",
      "max      1440.000000\n",
      "Name: Count, dtype: float64\n"
     ]
    }
   ],
   "source": [
    "print(nulos_por_fecha['Count'].describe())"
   ]
  },
  {
   "cell_type": "code",
   "execution_count": 13,
   "id": "ee899844-a978-487f-a903-2a6e3aa9381b",
   "metadata": {},
   "outputs": [
    {
     "name": "stdout",
     "output_type": "stream",
     "text": [
      "52\n",
      "11\n",
      "19\n",
      "9\n"
     ]
    }
   ],
   "source": [
    "# Filas con menos de 6 valores faltante\n",
    "print((nulos_por_fecha['Count'] < 6).sum())\n",
    "# Filas con entre 6 y 719 valores faltantes (menos de la mitad del día, asumiendo un día de 1440 minutos)\n",
    "print(((nulos_por_fecha['Count'] >= 6) & (nulos_por_fecha['Count'] < 720)).sum())\n",
    "# Filas con mas de 720 valores faltantes (mas de la mitad del día, asumiendo un día de 1440 minutos)\n",
    "print((nulos_por_fecha['Count'] > 720).sum())\n",
    "# Filas el día completo faltante, asumiendo un día de 1440 minutos)\n",
    "print((nulos_por_fecha['Count'] == 1440).sum())"
   ]
  },
  {
   "cell_type": "code",
   "execution_count": 14,
   "id": "0ea0f064-1324-40b5-98b0-4657db818941",
   "metadata": {},
   "outputs": [
    {
     "name": "stdout",
     "output_type": "stream",
     "text": [
      "         Date  Count\n",
      "7  2007-04-29   1440\n",
      "48 2009-06-14   1440\n",
      "59 2010-01-13   1440\n",
      "72 2010-08-18   1440\n",
      "73 2010-08-19   1440\n",
      "74 2010-08-20   1440\n",
      "75 2010-08-21   1440\n",
      "78 2010-09-26   1440\n",
      "79 2010-09-27   1440\n"
     ]
    }
   ],
   "source": [
    "diasComp_null = nulos_por_fecha[nulos_por_fecha['Count'] == 1440]\n",
    "print(diasComp_null)"
   ]
  },
  {
   "cell_type": "markdown",
   "id": "03207ffe-cca5-48b7-99f4-1a9df4ce6b6a",
   "metadata": {},
   "source": [
    "**La distribucion de los datos nulos son**:\n",
    "-  52 dias solo les falta umenos de 6 registros, es decir de 1 a 5 minutos faltantes de todo el dia\n",
    "-  11 dias les falta mas de 5 registros y menos del 50% de los registros \n",
    "-  10 de ellos les falta mas de 50% porciento de los datos pero no todo el dia\n",
    "-  9 dias hacen falta los registros completos\n",
    "\n",
    "Además los registros de días faltantes se distribuyen de la siguiente forma:\n",
    "- un dia en 2007 de marzo\n",
    "- un dia en 2009 de junio\n",
    "- 7 de ellos del 2010, 4 de ellos pertenecen a un mismo mes (agosto) y son dias continuos (18-21). dos de ellos son de septiembre del 26 y27 y finalmente de enero 13"
   ]
  },
  {
   "cell_type": "markdown",
   "id": "120052f2-1bd3-4ea0-8220-43f73d83ffad",
   "metadata": {},
   "source": [
    "### Limpeiza para menos de 6 Registros Faltantes por Día"
   ]
  },
  {
   "cell_type": "markdown",
   "id": "2a93fa7b-72ce-4f12-9d8b-5e01bd5af311",
   "metadata": {},
   "source": [
    "Para los días que solo les faltan de 1 a 5 registros, el método de interpolación lineal es una excelente opción. Este método asume que el cambio entre los puntos de datos disponibles es lineal y puede usarse para estimar los valores faltantes con relativa precisión. Dado que los intervalos de tiempo faltantes son cortos, la interpolación lineal puede proporcionar estimaciones cercanas a los valores reales, minimizando la distorsión de los datos."
   ]
  },
  {
   "cell_type": "code",
   "execution_count": 15,
   "id": "9f5138d5-4403-4935-a197-2ea0eff8fbb3",
   "metadata": {},
   "outputs": [
    {
     "name": "stdout",
     "output_type": "stream",
     "text": [
      "<class 'pandas.core.frame.DataFrame'>\n",
      "RangeIndex: 2075259 entries, 0 to 2075258\n",
      "Data columns (total 9 columns):\n",
      " #   Column                 Dtype         \n",
      "---  ------                 -----         \n",
      " 0   Date                   datetime64[ns]\n",
      " 1   Time                   object        \n",
      " 2   Global_active_power    float64       \n",
      " 3   Global_reactive_power  float64       \n",
      " 4   Voltage                float64       \n",
      " 5   Global_intensity       float64       \n",
      " 6   Sub_metering_1         float64       \n",
      " 7   Sub_metering_2         float64       \n",
      " 8   Sub_metering_3         float64       \n",
      "dtypes: datetime64[ns](1), float64(7), object(1)\n",
      "memory usage: 142.5+ MB\n",
      "None\n"
     ]
    }
   ],
   "source": [
    "print(X_clean.info())"
   ]
  },
  {
   "cell_type": "code",
   "execution_count": 16,
   "id": "2f8b83cb-39dc-4f1c-8181-5d80514cd89c",
   "metadata": {},
   "outputs": [],
   "source": [
    "grupo1 = nulos_por_fecha[nulos_por_fecha['Count'] < 6].copy()\n",
    "grupo1['Date'] = pd.to_datetime(grupo1['Date'])\n",
    "\n",
    "# Combinar las columnas 'Date' y 'Time' para crear una nueva columna 'DateTime'\n",
    "X_clean['DateTime'] = pd.to_datetime(X_clean['Date'].astype(str) + ' ' + X_clean['Time'])\n",
    "# Establecer 'DateTime' como el nuevo índice del DataFrame\n",
    "X_clean.set_index('DateTime', inplace=True)\n",
    "\n",
    "for fecha in grupo1['Date']:\n",
    "    # Seleccionar filas para una fecha específica y solo columnas numéricas\n",
    "    date_mask = X_clean.index.date == fecha.date()\n",
    "    numeric_columns = X_clean.select_dtypes(include=['float64', 'int64']).columns\n",
    "    X_clean.loc[date_mask, numeric_columns] = X_clean.loc[date_mask, numeric_columns].interpolate(method='linear')"
   ]
  },
  {
   "cell_type": "code",
   "execution_count": 18,
   "id": "eac51439-0253-497c-8d6c-5b27f27cf9d8",
   "metadata": {},
   "outputs": [
    {
     "name": "stdout",
     "output_type": "stream",
     "text": [
      "Date                         0\n",
      "Time                         0\n",
      "Global_active_power      25908\n",
      "Global_reactive_power    25908\n",
      "Voltage                  25908\n",
      "Global_intensity         25908\n",
      "Sub_metering_1           25908\n",
      "Sub_metering_2           25908\n",
      "Sub_metering_3           25908\n",
      "dtype: int64\n"
     ]
    }
   ],
   "source": [
    "print(X_clean.isnull().sum())"
   ]
  },
  {
   "cell_type": "markdown",
   "id": "ee9a9b73-1861-42ce-9200-c168c8a26f72",
   "metadata": {},
   "source": [
    "### Limpieza para Días con más de 5 registros faltantes y menos del 50%"
   ]
  },
  {
   "cell_type": "code",
   "execution_count": null,
   "id": "f8d52c9c-9355-407e-9d5b-baf2e5a0fb68",
   "metadata": {},
   "outputs": [],
   "source": []
  }
 ],
 "metadata": {
  "kernelspec": {
   "display_name": "Python 3 (ipykernel)",
   "language": "python",
   "name": "python3"
  },
  "language_info": {
   "codemirror_mode": {
    "name": "ipython",
    "version": 3
   },
   "file_extension": ".py",
   "mimetype": "text/x-python",
   "name": "python",
   "nbconvert_exporter": "python",
   "pygments_lexer": "ipython3",
   "version": "3.12.1"
  }
 },
 "nbformat": 4,
 "nbformat_minor": 5
}
