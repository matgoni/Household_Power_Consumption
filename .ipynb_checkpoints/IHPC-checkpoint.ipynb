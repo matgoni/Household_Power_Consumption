{
 "cells": [
  {
   "cell_type": "markdown",
   "id": "590f5d82-fd45-43d3-a55a-e85aaaab5c92",
   "metadata": {},
   "source": [
    "# Individual_household_electric_power_consumption"
   ]
  },
  {
   "cell_type": "markdown",
   "id": "c7bfc80f-8d55-4d2f-b968-1e1774075130",
   "metadata": {},
   "source": [
    "## Librerias"
   ]
  },
  {
   "cell_type": "code",
   "execution_count": 1,
   "id": "c773fbf0-0c22-4d11-8ab8-3bc14b1a5733",
   "metadata": {},
   "outputs": [],
   "source": [
    "import pandas as pd\n",
    "import json"
   ]
  },
  {
   "cell_type": "markdown",
   "id": "5b01bcce-928a-494f-a1b6-b48c30ed9547",
   "metadata": {},
   "source": [
    "## Carga y Exploración de los datos"
   ]
  },
  {
   "cell_type": "code",
   "execution_count": 2,
   "id": "5518694b-7c4d-4f20-b943-046773207a54",
   "metadata": {},
   "outputs": [
    {
     "name": "stderr",
     "output_type": "stream",
     "text": [
      "C:\\Users\\matun\\AppData\\Local\\Programs\\Python\\Python312\\Lib\\site-packages\\ucimlrepo\\fetch.py:97: DtypeWarning: Columns (2,3,4,5,6,7) have mixed types. Specify dtype option on import or set low_memory=False.\n",
      "  df = pd.read_csv(data_url)\n"
     ]
    },
    {
     "name": "stdout",
     "output_type": "stream",
     "text": [
      "{\n",
      "    \"uci_id\": 235,\n",
      "    \"name\": \"Individual Household Electric Power Consumption\",\n",
      "    \"repository_url\": \"https://archive.ics.uci.edu/dataset/235/individual+household+electric+power+consumption\",\n",
      "    \"data_url\": \"https://archive.ics.uci.edu/static/public/235/data.csv\",\n",
      "    \"abstract\": \"Measurements of electric power consumption in one household with a one-minute sampling rate over a period of almost 4 years. Different electrical quantities and some sub-metering values are available.\",\n",
      "    \"area\": \"Physics and Chemistry\",\n",
      "    \"tasks\": [\n",
      "        \"Regression\",\n",
      "        \"Clustering\"\n",
      "    ],\n",
      "    \"characteristics\": [\n",
      "        \"Multivariate\",\n",
      "        \"Time-Series\"\n",
      "    ],\n",
      "    \"num_instances\": 2075259,\n",
      "    \"num_features\": 9,\n",
      "    \"feature_types\": [\n",
      "        \"Real\"\n",
      "    ],\n",
      "    \"demographics\": [],\n",
      "    \"target_col\": null,\n",
      "    \"index_col\": null,\n",
      "    \"has_missing_values\": \"no\",\n",
      "    \"missing_values_symbol\": null,\n",
      "    \"year_of_dataset_creation\": 2006,\n",
      "    \"last_updated\": \"Fri Mar 08 2024\",\n",
      "    \"dataset_doi\": \"10.24432/C58K54\",\n",
      "    \"creators\": [\n",
      "        \"Georges Hebrail\",\n",
      "        \"Alice Berard\"\n",
      "    ],\n",
      "    \"intro_paper\": null,\n",
      "    \"additional_info\": {\n",
      "        \"summary\": \"This archive contains 2075259 measurements gathered in a house located in Sceaux (7km of Paris, France) between December 2006 and November 2010 (47 months).\\r\\nNotes: \\r\\n1.(global_active_power*1000/60 - sub_metering_1 - sub_metering_2 - sub_metering_3) represents the active energy consumed every minute (in watt hour) in the household by electrical equipment not measured in sub-meterings 1, 2 and 3.\\r\\n2.The dataset contains some missing values in the measurements (nearly 1,25% of the rows). All calendar timestamps are present in the dataset but for some timestamps, the measurement values are missing: a missing value is represented by the absence of value between two consecutive semi-colon attribute separators. For instance, the dataset shows missing values on April 28, 2007.\",\n",
      "        \"purpose\": null,\n",
      "        \"funded_by\": null,\n",
      "        \"instances_represent\": null,\n",
      "        \"recommended_data_splits\": null,\n",
      "        \"sensitive_data\": null,\n",
      "        \"preprocessing_description\": null,\n",
      "        \"variable_info\": \"1.date: Date in format dd/mm/yyyy\\r\\n2.time: time in format hh:mm:ss\\r\\n3.global_active_power: household global minute-averaged active power (in kilowatt)\\r\\n4.global_reactive_power: household global minute-averaged reactive power (in kilowatt)\\r\\n5.voltage: minute-averaged voltage (in volt)\\r\\n6.global_intensity: household global minute-averaged current intensity (in ampere)\\r\\n7.sub_metering_1: energy sub-metering No. 1 (in watt-hour of active energy). It corresponds to the kitchen, containing mainly a dishwasher, an oven and a microwave (hot plates are not electric but gas powered).\\r\\n8.sub_metering_2: energy sub-metering No. 2 (in watt-hour of active energy). It corresponds to the laundry room, containing a washing-machine, a tumble-drier, a refrigerator and a light.\\r\\n9.sub_metering_3: energy sub-metering No. 3 (in watt-hour of active energy). It corresponds to an electric water-heater and an air-conditioner.\",\n",
      "        \"citation\": null\n",
      "    }\n",
      "}\n"
     ]
    }
   ],
   "source": [
    "from ucimlrepo import fetch_ucirepo \n",
    "# fetch dataset \n",
    "individual_household_electric_power_consumption = fetch_ucirepo(id=235) \n",
    "  \n",
    "# data (as pandas dataframes) \n",
    "X = individual_household_electric_power_consumption.data.features \n",
    "\n",
    "# Metadata\n",
    "metadata_str = json.dumps(individual_household_electric_power_consumption.metadata, indent=4)\n",
    "print(metadata_str)"
   ]
  },
  {
   "cell_type": "code",
   "execution_count": 3,
   "id": "18e35a9f-98f3-42d2-b03e-ec8a1a47dcb7",
   "metadata": {},
   "outputs": [
    {
     "name": "stdout",
     "output_type": "stream",
     "text": [
      "         Date      Time Global_active_power Global_reactive_power  Voltage  \\\n",
      "0  16/12/2006  17:24:00               4.216                 0.418  234.840   \n",
      "1  16/12/2006  17:25:00               5.360                 0.436  233.630   \n",
      "2  16/12/2006  17:26:00               5.374                 0.498  233.290   \n",
      "3  16/12/2006  17:27:00               5.388                 0.502  233.740   \n",
      "4  16/12/2006  17:28:00               3.666                 0.528  235.680   \n",
      "\n",
      "  Global_intensity Sub_metering_1 Sub_metering_2  Sub_metering_3  \n",
      "0           18.400          0.000          1.000            17.0  \n",
      "1           23.000          0.000          1.000            16.0  \n",
      "2           23.000          0.000          2.000            17.0  \n",
      "3           23.000          0.000          1.000            17.0  \n",
      "4           15.800          0.000          1.000            17.0  \n"
     ]
    }
   ],
   "source": [
    "print(X.head())"
   ]
  },
  {
   "cell_type": "code",
   "execution_count": 4,
   "id": "2bdf7f57-035f-4e01-9602-751e4cd25c35",
   "metadata": {
    "scrolled": true
   },
   "outputs": [
    {
     "name": "stdout",
     "output_type": "stream",
     "text": [
      "<class 'pandas.core.frame.DataFrame'>\n",
      "RangeIndex: 2075259 entries, 0 to 2075258\n",
      "Data columns (total 9 columns):\n",
      " #   Column                 Dtype  \n",
      "---  ------                 -----  \n",
      " 0   Date                   object \n",
      " 1   Time                   object \n",
      " 2   Global_active_power    object \n",
      " 3   Global_reactive_power  object \n",
      " 4   Voltage                object \n",
      " 5   Global_intensity       object \n",
      " 6   Sub_metering_1         object \n",
      " 7   Sub_metering_2         object \n",
      " 8   Sub_metering_3         float64\n",
      "dtypes: float64(1), object(8)\n",
      "memory usage: 142.5+ MB\n",
      "None\n"
     ]
    }
   ],
   "source": [
    "print(X.info())"
   ]
  },
  {
   "cell_type": "code",
   "execution_count": 5,
   "id": "289d2483-da1e-4a29-a080-ba0b7fe8cb5c",
   "metadata": {},
   "outputs": [
    {
     "name": "stdout",
     "output_type": "stream",
     "text": [
      "       Sub_metering_3\n",
      "count    2.049280e+06\n",
      "mean     6.458447e+00\n",
      "std      8.437154e+00\n",
      "min      0.000000e+00\n",
      "25%      0.000000e+00\n",
      "50%      1.000000e+00\n",
      "75%      1.700000e+01\n",
      "max      3.100000e+01\n"
     ]
    }
   ],
   "source": [
    "print(X.describe())"
   ]
  },
  {
   "cell_type": "code",
   "execution_count": 6,
   "id": "33d88102-77fb-4c4b-a882-b9191fc1d27d",
   "metadata": {},
   "outputs": [
    {
     "name": "stdout",
     "output_type": "stream",
     "text": [
      "Porcentaje de datos faltantes 1.2518443489917879\n"
     ]
    }
   ],
   "source": [
    "print(f'Porcentaje de datos faltantes {25979/2075258*100}')"
   ]
  },
  {
   "cell_type": "markdown",
   "id": "77a12eb2-1dfc-4818-ba66-1928c6d6ebee",
   "metadata": {},
   "source": [
    "## Limpieza de Datos"
   ]
  }
 ],
 "metadata": {
  "kernelspec": {
   "display_name": "Python 3 (ipykernel)",
   "language": "python",
   "name": "python3"
  },
  "language_info": {
   "codemirror_mode": {
    "name": "ipython",
    "version": 3
   },
   "file_extension": ".py",
   "mimetype": "text/x-python",
   "name": "python",
   "nbconvert_exporter": "python",
   "pygments_lexer": "ipython3",
   "version": "3.12.1"
  }
 },
 "nbformat": 4,
 "nbformat_minor": 5
}
